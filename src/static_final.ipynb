{
 "cells": [
  {
   "cell_type": "markdown",
   "metadata": {},
   "source": [
    "# Smoking in US"
   ]
  },
  {
   "cell_type": "markdown",
   "metadata": {},
   "source": [
    "The following visualizations are designed to explore patterns of cigarette and vape use, along with demographic and behavioral factors. These charts are based on survey data collected over several years, focusing on the usage of tobacco products, variations by age, gender, and race, and socioeconomic factors. Each chart is crafted with care to provide insights into different aspects of tobacco use."
   ]
  },
  {
   "cell_type": "code",
   "execution_count": null,
   "metadata": {
    "vscode": {
     "languageId": "plaintext"
    }
   },
   "outputs": [],
   "source": [
    "import pandas as pd\n",
    "import altair as alt\n",
    "from pathlib import Path"
   ]
  },
  {
   "cell_type": "code",
   "execution_count": null,
   "metadata": {},
   "outputs": [],
   "source": [
    "df = pd.read_csv(\"../data/smoking.csv\")\n",
    "df2021= pd.read_csv(\"../data/smoking_20-21.csv\")"
   ]
  },
  {
   "cell_type": "code",
   "execution_count": null,
   "metadata": {},
   "outputs": [],
   "source": [
    "# Recode data\n",
    "df['IRPINC3'] = df['IRPINC3'].replace({1: '1: Less than $10,000',2: '2: $10,000 - $19,999', 3: '3: $20,000 - $29,999',\n",
    "                                      4: '4: $30,000 - $39,999', 5: '5: $40,000 - $49,999', 6: '6: $50,000 - $74,999',7: '7: $75,000 or more' })\n",
    "df['IRSEX'] = df['IRSEX'].replace({1: 'Male', 2:'Female'})\n",
    "df['NEWRACE2'] = df['NEWRACE2'].replace({1: 'White', 2: 'Black/African American', 3:'Native American Alaska Native', \n",
    "                                        4: 'Native Hawaiian/Other Pacific Islanders', 5: 'Asian', 6:'More than One Race', 7:'Hispanic'})\n",
    "df['CIGEVER'] = df['CIGEVER'].replace({1: 'Yes', 2:'No'})\n",
    "df['CATAG3'] = df['CATAG3'].replace({1: '12-17 Years Old', 2: '18-25 Years Old', 3: '26-34 Years Old', 4: '35-49 Years Old',\n",
    "                                    5: '50 or Older'})\n",
    "y_labels = {\n",
    "        1: 'Less than one cigarette per day',\n",
    "        2: '1 cigarette per day',\n",
    "        3: '2 to 5 cigarettes per day',\n",
    "        4: '6 to 15 cigarettes per day',\n",
    "        5: '16 to 25 cigarettes per day',\n",
    "        6: '26 to 35 cigarettes per day',\n",
    "        7: 'More than 35 cigarettes per day'\n",
    "    }\n",
    "df['cig30av_label'] = df['CIG30AV'].map(y_labels)"
   ]
  },
  {
   "cell_type": "code",
   "execution_count": null,
   "metadata": {},
   "outputs": [],
   "source": [
    "# Get different data frame to work on visualization\n",
    "smoke = df.loc[df['CIGEVER'] == 'Yes']\n",
    "smoke = smoke.loc[smoke['CIGTRY'] <= 900]\n",
    "smoke_2021 = smoke.loc[smoke['year'] == 2021]\n",
    "current_smoker = smoke.loc[smoke['CIGREC'] == 1]"
   ]
  },
  {
   "cell_type": "code",
   "execution_count": null,
   "metadata": {},
   "outputs": [],
   "source": [
    "df2021_youth = df2021.loc[df2021['CATAG3'] == 1]\n",
    "df2021_youth = df2021_youth[['CIGEVER', 'VAPANYEVR', 'year']].loc[df2021_youth['VAPANYEVR'] < 80]\n",
    "df2021_youth['CIGEVER'] = df2021_youth['CIGEVER'].replace({2:0})\n",
    "df2021_youth['VAPANYEVR'] = df2021_youth['VAPANYEVR'].replace({2:0})\n",
    "\n",
    "def prepare_pie_data(df, var):\n",
    "    # Group by year and the variable (CIGEVER or VAPANYEVR)\n",
    "    pie_data = df.groupby(['year', var]).size().reset_index(name='count')\n",
    "    pie_data['Usage'] = pie_data[var].map({1: 'Ever Used', 0: 'Never Used'})\n",
    "    pie_data['Product'] = var\n",
    "    return pie_data\n",
    "\n",
    "cig_data = prepare_pie_data(df2021_youth, 'CIGEVER')\n",
    "vap_data = prepare_pie_data(df2021_youth, 'VAPANYEVR')\n",
    "\n",
    "# Combine both datasets\n",
    "pie_data = pd.concat([cig_data, vap_data])"
   ]
  },
  {
   "cell_type": "code",
   "execution_count": null,
   "metadata": {},
   "outputs": [],
   "source": [
    "alt.data_transformers.disable_max_rows()\n",
    "\n",
    "def year_everuse(df):\n",
    "    stacked_chart = alt.Chart(df).mark_bar().encode(\n",
    "        x=alt.X('year:N', title='Year', axis=alt.Axis(labelAngle=0)),\n",
    "        y=alt.Y('count():Q', stack='normalize', title='Proportion'),\n",
    "        color=alt.Color('CIGEVER:N').scale(scheme=\"set2\"),\n",
    "        order=alt.Order('CIGEVER:N', sort='descending')\n",
    "    ).properties(\n",
    "        title='Ever Smoked Cigarette by Year',\n",
    "        width=400  # Adjust the width here\n",
    "    )\n",
    "    return stacked_chart"
   ]
  },
  {
   "cell_type": "code",
   "execution_count": null,
   "metadata": {},
   "outputs": [],
   "source": [
    "year_everuse(df)"
   ]
  },
  {
   "cell_type": "markdown",
   "metadata": {},
   "source": [
    "This stacked bar chart visualizes the proportion of people who have ever smoked cigarettes by year. Over the years, the proportion of people who have ever smoked shows a slight downward trend, indicating that fewer people are initiating smoking, which could be due to effective public health campaigns or shifts in societal attitudes toward smoking."
   ]
  },
  {
   "cell_type": "code",
   "execution_count": null,
   "metadata": {},
   "outputs": [],
   "source": [
    "def year_firstage(df):\n",
    "    line_first = alt.Chart(df).mark_line(point=True).encode(\n",
    "        alt.Y(\"mean(CIGTRY)\"),\n",
    "        alt.X(\"year:N\", axis=alt.Axis(labelAngle=0)),\n",
    "        alt.Color(\"IRSEX:N\", scale=alt.Scale(\n",
    "            domain=['Female', 'Male'],  # Ensure correct mapping to gender\n",
    "            range=['#8624f5', '#1fc3aa']))\n",
    "    ).properties(\n",
    "        title='Average Age When First Smoked Cigarette by Year',\n",
    "        width=600  # Adjust the width here\n",
    "    )\n",
    "    return line_first"
   ]
  },
  {
   "cell_type": "code",
   "execution_count": null,
   "metadata": {},
   "outputs": [],
   "source": [
    "year_firstage(smoke)"
   ]
  },
  {
   "cell_type": "markdown",
   "metadata": {},
   "source": [
    "This line chart shows the average age when individuals first smoked a cigarette (CIGTRY) by gender (IRSEX) over the years 2015 to 2021. The average age of first cigarette use remains relatively stable across genders and years, hovering around 16 years old. Both males and females show similar trends, indicating minimal gender difference in the age of smoking initiation."
   ]
  },
  {
   "cell_type": "code",
   "execution_count": null,
   "metadata": {},
   "outputs": [],
   "source": [
    "def vap_cig(pie_data):\n",
    "    pie_chart = alt.Chart(pie_data).mark_arc().encode(\n",
    "        theta=alt.Theta('count:Q', title='Proportion'),\n",
    "        color=alt.Color('Usage:N', title='Ever Used').scale(scheme=\"tealblues\")       \n",
    "    ).facet(\n",
    "        row=alt.Row('Product:N', title=None),\n",
    "        column=alt.Column('year:N', title='Year'))\n",
    "    return pie_chart"
   ]
  },
  {
   "cell_type": "code",
   "execution_count": null,
   "metadata": {},
   "outputs": [],
   "source": [
    "vap_cig(pie_data)"
   ]
  },
  {
   "cell_type": "markdown",
   "metadata": {},
   "source": [
    "This pie chart visualizes the proportion of 12-17 year-old individuals who have ever used versus never used cigarettes (CIGEVER) and vape products (VAPANYEVR) for the years 2020 and 2021. The proportion of \"Ever Used\" for both cigarettes and vape products increases slightly in 2021 compared to 2020. This could reflect increasing trends in vape usage among younger populations."
   ]
  },
  {
   "cell_type": "code",
   "execution_count": null,
   "metadata": {},
   "outputs": [],
   "source": [
    "def race_smoke(df):\n",
    "    total_by_race = df.groupby('NEWRACE2').size().reset_index(name='Total')\n",
    "    \n",
    "    # Calculate number of current smokers (CIGREC == 1) in each race\n",
    "    smokers_by_race = df[df['CIGREC'] == 1].groupby('NEWRACE2').size().reset_index(name='Smokers')\n",
    "    race_smoker_data = pd.merge(total_by_race, smokers_by_race, on='NEWRACE2', how='left')\n",
    "    race_smoker_data['Smoker_Percentage'] = (race_smoker_data['Smokers'] / race_smoker_data['Total']) * 100\n",
    "\n",
    "    current = race_smoker_data[['NEWRACE2', 'Total', 'Smokers', 'Smoker_Percentage']]\n",
    "    \n",
    "    color_scale = alt.Scale(\n",
    "        domain=['White', 'Black/African American', 'Asian', 'Hispanic', \n",
    "                'More than One Race', 'Native American Alaska Native', 'Native Hawaiian/Other Pacific Islanders'],\n",
    "        range=['#93a1a1', '#4b4b4b', '#d0a585', '#a58fa5', '#f7e09c', '#c6dbef', '#a6a475']  # Adjusted colors\n",
    "    )    \n",
    "    chart = alt.Chart(current).mark_bar().encode(\n",
    "        x=alt.X('NEWRACE2:N', title='Race'),\n",
    "        y=alt.Y('Smoker_Percentage:Q', title='Percentage of Current Smokers'),\n",
    "        color=alt.Color('NEWRACE2:N', title='Race', scale=color_scale)\n",
    "    ).properties(\n",
    "        title='Percentage of Current Smokers by Race'\n",
    "    )\n",
    "    return chart"
   ]
  },
  {
   "cell_type": "code",
   "execution_count": null,
   "metadata": {},
   "outputs": [],
   "source": [
    "race_smoke(df)"
   ]
  },
  {
   "cell_type": "markdown",
   "metadata": {},
   "source": [
    "This bar chart displays the percentage of current smokers among various racial groups. Native American/Alaska Native individuals have the highest percentage of current smokers, while Asian populations show the lowest smoking rates. The data reveals racial disparities in smoking behavior, potentially influenced by socioeconomic and cultural factors."
   ]
  },
  {
   "cell_type": "code",
   "execution_count": null,
   "metadata": {},
   "outputs": [],
   "source": [
    "def violin_frequency(df, var):\n",
    "    violin = alt.Chart(df).transform_density(\n",
    "    var,\n",
    "    as_=[var, 'density'],\n",
    "    groupby=['CATAG3']\n",
    ").mark_area(orient='horizontal').encode(\n",
    "    alt.X('density:Q')\n",
    "        .stack('center')\n",
    "        .impute(None)\n",
    "        .title(None)\n",
    "        .axis(labels=False, values=[0], grid=False, ticks=True),\n",
    "    alt.Y(var),\n",
    "    alt.Color('CATAG3:N').scale(scheme=\"tealblues\"),\n",
    "    alt.Column('CATAG3:N')\n",
    "        .spacing(0)\n",
    "        .header(titleOrient='bottom', labelOrient='bottom', labelPadding=0)\n",
    ").configure_view(\n",
    "    stroke=None\n",
    ")\n",
    "    return violin"
   ]
  },
  {
   "cell_type": "code",
   "execution_count": null,
   "metadata": {},
   "outputs": [],
   "source": [
    "violin_frequency(smoke_2021.loc[smoke_2021['CIG30USE']<90], 'CIG30USE')"
   ]
  },
  {
   "cell_type": "markdown",
   "metadata": {},
   "source": [
    "This violin plot demonstrates the distribution of cigarette use across different age groups. The 26-34 years old group shows the broadest distribution, with higher frequencies of both light and heavy smoking. The 18-25 group has a more narrow and lighter use pattern, while the 50+ group shows more sporadic but heavier smoking behaviors."
   ]
  },
  {
   "cell_type": "code",
   "execution_count": null,
   "metadata": {},
   "outputs": [],
   "source": [
    "def stacked_cigarette_use(df):\n",
    "    # Create the chart\n",
    "    label_mapping = {\n",
    "        1: '1: Less than one cigarette per day',\n",
    "        2: '2: 1 cigarette per day',\n",
    "        3: '3: 2 to 5 cigarettes per day',\n",
    "        4: '4: 6 to 15 cigarettes per day',\n",
    "        5: '5: 16 to 25 cigarettes per day',\n",
    "        6: '6: 26 to 35 cigarettes per day',\n",
    "        7: '7: More than 35 cigarettes per day'\n",
    "    }\n",
    "    df['CIG30AV_label'] = df['CIG30AV'].map(label_mapping)\n",
    "    stacked_bar = alt.Chart(df).mark_bar().encode(\n",
    "        x=alt.X('CATAG3:N', title='Age Group', axis=alt.Axis(labelAngle=0)),\n",
    "        y=alt.Y('count()', stack='normalize', title='Proportion of Smokers'),\n",
    "        color=alt.Color('CIG30AV_label:N', title='Average Cigarettes Smoked Per Day',\n",
    "                        scale=alt.Scale(scheme='tealblues'))\n",
    "    ).properties(\n",
    "        title='Cigarette Use Distribution by Age Group',\n",
    "        width=600,\n",
    "        height=400\n",
    "    )\n",
    "\n",
    "    return stacked_bar"
   ]
  },
  {
   "cell_type": "code",
   "execution_count": null,
   "metadata": {},
   "outputs": [],
   "source": [
    "stacked_cigarette_use(smoke_2021.loc[smoke_2021['CIG30AV']<90])"
   ]
  },
  {
   "cell_type": "markdown",
   "metadata": {},
   "source": [
    "This stacked bar chart shows the proportion of smokers across different age groups, categorized by the average number of cigarettes smoked per day. Younger age groups tend to smoke fewer cigarettes per day, while middle-aged individuals (35-49 years old) have a higher proportion of heavy smokers. The trend reveals a clear gradation where older age groups are more likely to smoke larger quantities of cigarettes daily."
   ]
  },
  {
   "cell_type": "code",
   "execution_count": null,
   "metadata": {},
   "outputs": [],
   "source": [
    "def tobacco_use(df):\n",
    "    # Calculate percentage of ever use for each product by year\n",
    "    aggregated_data = df.groupby('year').agg(\n",
    "        cigever=('CIGEVER', lambda x: (x == 'Yes').mean() * 100),  # Percentage for CIGEVER\n",
    "        smklssevr=('SMKLSSEVR', lambda x: (x == 1).mean() * 100),  # Percentage for SMKLSSEVR\n",
    "        cigarevr=('CIGAREVR', lambda x: (x == 1).mean() * 100),  # Percentage for CIGAREVR\n",
    "        pipever=('PIPEVER', lambda x: (x == 1).mean() * 100)  # Percentage for PIPEVER\n",
    "    ).reset_index()\n",
    "\n",
    "    # Melt the data into long format for plotting\n",
    "    melted_data = aggregated_data.melt(id_vars='year', \n",
    "                                       value_vars=['cigever', 'smklssevr', 'cigarevr', 'pipever'],\n",
    "                                       var_name='Product', value_name='Percentage')\n",
    "    # Create the line plot\n",
    "    line_chart = alt.Chart(melted_data).mark_line(point=True).encode(\n",
    "        x=alt.X('year:O', title='Year', axis=alt.Axis(labelAngle=0)),  # X-axis: Year\n",
    "        y=alt.Y('Percentage:Q', title='Percentage of Ever Use (%)'),  # Y-axis: Percentage of ever use\n",
    "        color=alt.Color('Product:N', title='Product').scale(scheme=\"set2\")\n",
    "    ).properties(\n",
    "        title='Percentage of Ever Use of Cigarettes, Smokeless Tobacco, Cigars, and Pipes by Year',\n",
    "        width=700,\n",
    "        height=400\n",
    "    )\n",
    "\n",
    "    return line_chart\n"
   ]
  },
  {
   "cell_type": "code",
   "execution_count": null,
   "metadata": {},
   "outputs": [],
   "source": [
    "tobacco_use(df)"
   ]
  },
  {
   "cell_type": "markdown",
   "metadata": {},
   "source": [
    "This line chart tracks the percentage of ever use of various tobacco products (CIGEVER, CIGAREVR, SMKISSEVR, PIPEVER) from 2015 to 2021. Cigarette use (CIGEVER) is consistently the highest, though it shows a steady decline. Use of cigars and smokeless tobacco remains stable with a slight decrease, while the use of pipes is relatively rare and shows minimal change."
   ]
  },
  {
   "cell_type": "code",
   "execution_count": null,
   "metadata": {},
   "outputs": [],
   "source": [
    "def income_cigarette(df):\n",
    "    df['CIG30USE_grouped'] = pd.cut(smoke_2021['CIG30USE'], bins=[0, 5, 10, 20, 30],\n",
    "                                    labels=['1: 1-5 days', '2: 6-10 days', '3: 11-20 days', '4: 21-30 days'],\n",
    "                                    right=True)\n",
    "    heatmap = alt.Chart(df).mark_rect().encode(\n",
    "        x=alt.X('IRPINC3:N', title='Income Category', axis=alt.Axis(labelAngle=0)),\n",
    "        y=alt.Y('CIG30USE_grouped:N', title='Cigarette Use (Grouped Days)'),\n",
    "        color=alt.Color('count():Q', title='Number of People').scale(scheme=\"tealblues\"),\n",
    "    ).properties(\n",
    "        title='Heatmap of Income vs Cigarette Use (Days)',\n",
    "        width=800\n",
    "    )\n",
    "\n",
    "\n",
    "    return heatmap"
   ]
  },
  {
   "cell_type": "code",
   "execution_count": null,
   "metadata": {},
   "outputs": [],
   "source": [
    "income_cigarette(smoke_2021.loc[smoke_2021['CIG30USE']<90])"
   ]
  },
  {
   "cell_type": "markdown",
   "metadata": {},
   "source": [
    "This heatmap visualizes the relationship between income categories and cigarette use (grouped by number of days). Darker shades represent a higher number of smokers in each income group. Individuals in lower income categories show higher frequencies of cigarette use. Conversely, as income increases, cigarette use tends to decrease, with a noticeable drop-off in higher income brackets."
   ]
  }
 ],
 "metadata": {
  "kernelspec": {
   "display_name": "Python 3 (ipykernel)",
   "language": "python",
   "name": "python3"
  },
  "language_info": {
   "codemirror_mode": {
    "name": "ipython",
    "version": 3
   },
   "file_extension": ".py",
   "mimetype": "text/x-python",
   "name": "python",
   "nbconvert_exporter": "python",
   "pygments_lexer": "ipython3",
   "version": "3.10.6"
  }
 },
 "nbformat": 4,
 "nbformat_minor": 4
}
