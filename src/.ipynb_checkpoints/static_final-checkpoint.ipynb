{
 "cells": [
  {
   "cell_type": "markdown",
   "metadata": {},
   "source": [
    "# Smoking in US"
   ]
  },
  {
   "cell_type": "markdown",
   "metadata": {},
   "source": [
    "The following visualizations are designed to explore patterns of cigarette and vape use, along with demographic and behavioral factors. These charts are based on survey data collected over several years, focusing on the usage of tobacco products, variations by age, gender, and race, and socioeconomic factors. Each chart is crafted with care to provide insights into different aspects of tobacco use."
   ]
  },
  {
   "cell_type": "code",
   "execution_count": null,
   "metadata": {
    "vscode": {
     "languageId": "plaintext"
    }
   },
   "outputs": [],
   "source": [
    "import pandas as pd\n",
    "import altair as alt\n",
    "from pathlib import Path"
   ]
  },
  {
   "cell_type": "code",
   "execution_count": null,
   "metadata": {},
   "outputs": [],
   "source": [
    "# Read data\n",
    "df = pd.read_csv(\"../data/smoking.csv\")\n",
    "df2021= pd.read_csv(\"../data/smoking_20-21.csv\")"
   ]
  },
  {
   "cell_type": "code",
   "execution_count": null,
   "metadata": {},
   "outputs": [],
   "source": [
    "# Recode data\n",
    "df['IRPINC3'] = df['IRPINC3'].replace({1: '1: Less than $10,000',2: '2: $10,000 - $19,999', 3: '3: $20,000 - $29,999',\n",
    "                                       4: '4: $30,000 - $39,999', 5: '5: $40,000 - $49,999', 6: '6: $50,000 - $74,999',\n",
    "                                       7: '7: $75,000 or more' })\n",
    "df['IRSEX'] = df['IRSEX'].replace({1: 'Male', 2:'Female'})\n",
    "df['NEWRACE2'] = df['NEWRACE2'].replace({1: 'White', 2: 'Black/African American', 3:'Native American Alaska Native', \n",
    "                                        4: 'Native Hawaiian/Other Pacific Islanders', 5: 'Asian', \n",
    "                                         6:'More than One Race', 7:'Hispanic'})\n",
    "df['CATAG3'] = df['CATAG3'].replace({1: '12-17 Years Old', 2: '18-25 Years Old', 3: '26-34 Years Old', 4: '35-49 Years Old',\n",
    "                                    5: '50 or Older'})\n",
    "df['CIGEVER'] = df['CIGEVER'].replace({2: 0})\n",
    "df['CIG30AV_grouped'] = pd.cut(\n",
    "    df['CIG30AV'], \n",
    "    bins=[0, 3, 4, 6, 7], \n",
    "    labels=['0.5 pack or less', '0.5 pack to 1 pack', '1 pack to 2 packs', '2 packs or more'],\n",
    "    right=True\n",
    ")\n",
    "df = df.rename(columns={'IRSEX': 'Gender'})"
   ]
  },
  {
   "cell_type": "code",
   "execution_count": null,
   "metadata": {},
   "outputs": [],
   "source": [
    "# Get different data frame to work on visualization\n",
    "smoke = df.loc[df['CIGEVER'] == 1]\n",
    "smoke = smoke.loc[smoke['CIGTRY'] <= 900]\n",
    "smoke_2021 = smoke.loc[smoke['year'] == 2021]\n",
    "current_smoker = smoke.loc[smoke['CIGREC'] == 1]"
   ]
  },
  {
   "cell_type": "code",
   "execution_count": null,
   "metadata": {},
   "outputs": [],
   "source": [
    "# Data for pie chart\n",
    "df2021_youth = df2021.loc[df2021['CATAG3'] == 1]\n",
    "df2021_youth = df2021_youth[['CIGEVER', 'VAPANYEVR', 'year']].loc[df2021_youth['VAPANYEVR'] < 80]\n",
    "df2021_youth['CIGEVER'] = df2021_youth['CIGEVER'].replace({2:0})\n",
    "df2021_youth['VAPANYEVR'] = df2021_youth['VAPANYEVR'].replace({2:0})\n",
    "df2021_youth = df2021_youth.rename(columns={'CIGEVER': 'Cigarettes','VAPANYEVR': 'Vapes'})\n",
    "def prepare_pie_data(df, var):\n",
    "    # Group by year and the variable (CIGEVER or VAPANYEVR)\n",
    "    pie_data = df.groupby(['year', var]).size().reset_index(name='count')\n",
    "    pie_data['Usage'] = pie_data[var].map({1: 'Ever Used', 0: 'Never Used'})\n",
    "    pie_data['Product'] = var\n",
    "    return pie_data\n",
    "\n",
    "cig_data = prepare_pie_data(df2021_youth, 'Cigarettes')\n",
    "vap_data = prepare_pie_data(df2021_youth, 'Vapes')\n",
    "\n",
    "# Combine both datasets\n",
    "pie_data = pd.concat([cig_data, vap_data])\n",
    "pie_data['percentage'] = pie_data.groupby(['year', 'Product'])['count'].transform(lambda x: (x / x.sum()))"
   ]
  },
  {
   "cell_type": "code",
   "execution_count": null,
   "metadata": {},
   "outputs": [],
   "source": [
    "alt.data_transformers.disable_max_rows()\n",
    "\n",
    "def year_everuse(df):\n",
    "    \"\"\"\n",
    "    Line chart of the trend of cigarette smoking experience over years.\n",
    "    \"\"\"\n",
    "    line_chart = alt.Chart(df).mark_line(point=True, color=\"#367588\").encode(\n",
    "        x=alt.X('year:N', title='Year', axis=alt.Axis(labelAngle=0)),\n",
    "        y=alt.Y('mean(CIGEVER):Q', scale=alt.Scale(domain=[0, 0.8]), \n",
    "                title='Percentage of Participants Who Ever Smoked').axis(format='%', tickCount=5)\n",
    "    ).configure_axis(\n",
    "        grid=False # No grid\n",
    "    ).configure_view(\n",
    "        stroke=None\n",
    "    ).properties(\n",
    "    title={\n",
    "        \"text\":['Trend of Cigarette Smoking Experience Over Years'],\n",
    "        \"subtitle\":[\"The smoking population is decreasing over years.\"]},\n",
    "        width=400).configure_title(\n",
    "        anchor='start', # Title starts from left\n",
    "        fontSize=24, \n",
    "        font='Roboto, sans-serif', \n",
    "        subtitleFont='Roboto, sans-serif', \n",
    "        subtitleFontSize=16\n",
    "    )\n",
    "    \n",
    "    return line_chart"
   ]
  },
  {
   "cell_type": "code",
   "execution_count": null,
   "metadata": {},
   "outputs": [],
   "source": [
    "year_everuse(df)"
   ]
  },
  {
   "cell_type": "markdown",
   "metadata": {},
   "source": [
    "This line chart visualizes the proportion of people who have ever smoked cigarettes by year. Over the years, the proportion of people who have ever smoked shows a slight downward trend, indicating that fewer people are initiating smoking, which could be due to effective public health campaigns, policy changes, or shifts in societal attitudes toward smoking."
   ]
  },
  {
   "cell_type": "code",
   "execution_count": null,
   "metadata": {},
   "outputs": [],
   "source": [
    "def year_firstage(df):\n",
    "    \"\"\"\n",
    "    Line chart: Average age when first smoked cigarette by year and gender.\n",
    "    \"\"\"\n",
    "    line_first = alt.Chart(df).mark_line(point=True).encode(\n",
    "        alt.Y(\"mean(CIGTRY)\", title='Average Age', scale=alt.Scale(domain=[12, 18])),\n",
    "        alt.X(\"year:N\", axis=alt.Axis(labelAngle=0)),\n",
    "        alt.Color(\"Gender:N\", scale=alt.Scale(\n",
    "            domain=['Female', 'Male'],  # Ensure correct mapping to gender\n",
    "            range=['#367588', '#dd644e']))\n",
    "    )\n",
    "    # Vertical rule at 2019\n",
    "    rule_2019 = alt.Chart(pd.DataFrame({'year': [2019]})).mark_rule(\n",
    "        color='grey',\n",
    "    ).encode(\n",
    "        x='year:N'\n",
    "    )\n",
    "    \n",
    "    # Combine line chart and rule\n",
    "    chart = (line_first + rule_2019).configure_axis(\n",
    "        grid=False\n",
    "    ).configure_view(\n",
    "        stroke=None\n",
    "    ).properties(\n",
    "        title={\n",
    "            \"text\": ['Average Age When First Smoked Cigarette by Year'],\n",
    "            \"subtitle\": ['Increasing over time no matter which gender, especially after \"Tobacco 21\" (2019).']\n",
    "        },\n",
    "        width=600\n",
    "    ).configure_title(\n",
    "        anchor='start', \n",
    "        fontSize=24, \n",
    "        font='Roboto, sans-serif', \n",
    "        subtitleFont='Roboto, sans-serif', \n",
    "        subtitleFontSize=16\n",
    "    )\n",
    "    \n",
    "    return chart"
   ]
  },
  {
   "cell_type": "code",
   "execution_count": null,
   "metadata": {},
   "outputs": [],
   "source": [
    "year_firstage(smoke)"
   ]
  },
  {
   "cell_type": "markdown",
   "metadata": {},
   "source": [
    "This chart shows a gradual increase in the average age at which individuals first smoked cigarettes from 2015 to 2021, for both genders. Notably, there is a slight uptick after 2019, aligning with the implementation of the \"Tobacco 21\" policy, which raised the legal purchasing age for tobacco products to 21. This suggests that the policy may have contributed to delaying the initiation age for smoking, with both males and females showing similar trends over time."
   ]
  },
  {
   "cell_type": "code",
   "execution_count": null,
   "metadata": {},
   "outputs": [],
   "source": [
    "def vap_cig(pie_data):\n",
    "    \"\"\"\n",
    "    Pie chart of cigarettes and vapes use among young generation.\n",
    "    \"\"\"\n",
    "    base = alt.Chart(pie_data).encode(\n",
    "        theta=alt.Theta('count:Q', title='Proportion'),\n",
    "        color=alt.Color('Usage:N', title='Ever Used').scale(\n",
    "            domain=['Ever Used', 'Never Used'],\n",
    "            range=['#dd644e', '#367588'])       \n",
    "    )\n",
    "    \n",
    "    pie_chart = base.mark_arc(outerRadius=80)\n",
    "    text = base.mark_text(radius=100, size=10, align=\"center\").encode(\n",
    "        text=alt.Text(\"percentage:N\", format=\".1%\"),\n",
    "        color=alt.value(\"#605E5C\"))\n",
    "    \n",
    "    combined_chart = (pie_chart + text).facet(\n",
    "        row=alt.Row('Product:N', title='Percentage of Product Use'),\n",
    "        column=alt.Column('year:N', title='Year')\n",
    "    ).properties(\n",
    "        title={\n",
    "            \"text\": ['Cigarettes vs Vapes Usage among 12-17 year old in 2020 and 2021'],\n",
    "            \"subtitle\":['Vape usage shows higher prevalence than cigarette usage among youth, with slight decreases in both from 2020 to 2021.']\n",
    "        }\n",
    "    ).configure_title(\n",
    "        anchor='start', \n",
    "        fontSize=24, \n",
    "        font='Roboto, sans-serif', \n",
    "        subtitleFont='Roboto, sans-serif', \n",
    "        subtitleFontSize=16\n",
    "    )\n",
    "    return combined_chart"
   ]
  },
  {
   "cell_type": "code",
   "execution_count": null,
   "metadata": {},
   "outputs": [],
   "source": [
    "vap_cig(pie_data)"
   ]
  },
  {
   "cell_type": "markdown",
   "metadata": {},
   "source": [
    "This pie chart visualizes the proportion of 12-17 year-old individuals who have ever used versus never used cigarettes and vape products for the years 2020 and 2021. For cigarettes, the majority of respondents reported never using them, with a slight decline in ever-use from 7.7% in 2020 to 6.4% in 2021. In contrast, vape usage shows a notably higher percentage of ever-users, though it also decreased from 18.4% in 2020 to 14.8% in 2021. This suggests that while vapes are more commonly used than cigarettes in this age group, both products experienced a decrease in usage over the two years."
   ]
  },
  {
   "cell_type": "code",
   "execution_count": null,
   "metadata": {},
   "outputs": [],
   "source": [
    "def race_smoke(df):\n",
    "    \"\"\"\n",
    "    Stacked bar chart: CUrrent smokers by race.\n",
    "    \"\"\"\n",
    "    total_by_race = df.groupby('NEWRACE2').size().reset_index(name='Total')\n",
    "    \n",
    "    # Calculate number of current smokers (CIGREC == 1) in each race\n",
    "    smokers_by_race = df[df['CIGREC'] == 1].groupby('NEWRACE2').size().reset_index(name='Smokers')\n",
    "    race_smoker_data = pd.merge(total_by_race, smokers_by_race, on='NEWRACE2', how='left')\n",
    "    race_smoker_data['Smoker_Percentage'] = (race_smoker_data['Smokers'] / race_smoker_data['Total'])\n",
    "\n",
    "    current = race_smoker_data[['NEWRACE2', 'Total', 'Smokers', 'Smoker_Percentage']]\n",
    "    \n",
    "    color_scale = alt.Scale(\n",
    "        domain=['White', 'Black/African American', 'Asian', 'Hispanic', \n",
    "                'More than One Race', 'Native American Alaska Native', 'Native Hawaiian/Other Pacific Islanders'],\n",
    "        range=['#d3d3d3', '#d3d3d3', '#d3d3d3', '#d3d3d3', '#d3d3d3', '#367588', '#d3d3d3']  # Adjusted colors\n",
    "    )    \n",
    "    chart = alt.Chart(current).mark_bar().encode(\n",
    "        x=alt.X('NEWRACE2:N', title='Race', \n",
    "                sort=alt.EncodingSortField(field=\"Smoker_Percentage\", order=\"descending\"),\n",
    "                axis=alt.Axis(labelAngle=-50)),\n",
    "        y=alt.Y('Smoker_Percentage:Q', title='Percentage of Current Smokers').axis(format='%'),\n",
    "        color=alt.Color('NEWRACE2:N', title='Race', scale=color_scale, legend=None)\n",
    "    ).properties(\n",
    "        title={\n",
    "            \"text\": ['Percentage of Current Smokers by Race'],\n",
    "            \"subtitle\":['Native American and Alaska Native individuals have the highest smoking rates, while Asian individuals report the lowest.']\n",
    "        }\n",
    "    ).configure_title(\n",
    "        anchor='start', \n",
    "        fontSize=24, \n",
    "        font='Roboto, sans-serif', \n",
    "        subtitleFont='Roboto, sans-serif', \n",
    "        subtitleFontSize=16\n",
    "    )\n",
    "    return chart"
   ]
  },
  {
   "cell_type": "code",
   "execution_count": null,
   "metadata": {},
   "outputs": [],
   "source": [
    "race_smoke(df)"
   ]
  },
  {
   "cell_type": "markdown",
   "metadata": {},
   "source": [
    "This bar chart displays the percentage of current smokers among various racial groups. Native American/Alaska Native individuals have the highest percentage of current smokers, while Asian populations show the lowest smoking rates. The data reveals racial disparities in smoking behavior, potentially influenced by socioeconomic and cultural factors."
   ]
  },
  {
   "cell_type": "code",
   "execution_count": null,
   "metadata": {},
   "outputs": [],
   "source": [
    "def violin_frequency(df, var):\n",
    "    \"\"\"\n",
    "    Violin chart: Cigarette Use Frequency \n",
    "    \"\"\"\n",
    "    violin = alt.Chart(df).transform_density(\n",
    "    var,\n",
    "    as_=[var, 'density'],\n",
    "    groupby=['CATAG3']\n",
    ").mark_area(orient='horizontal').encode(\n",
    "    alt.X('density:Q')\n",
    "        .stack('center')\n",
    "        .impute(None)\n",
    "        .title(None)\n",
    "        .axis(labels=False, values=[0], grid=False, ticks=True),\n",
    "    alt.Y(var, title=\" Days Smoked in Past 30 Days\"),\n",
    "    alt.Color('CATAG3:N', legend=None).scale(scheme=\"tealblues\"),\n",
    "    alt.Column('CATAG3:N', title=\"Age Group\")\n",
    "        .spacing(0)\n",
    "        .header(titleOrient='bottom', labelOrient='bottom', labelPadding=0)\n",
    "    ).configure_axis(\n",
    "    grid=False\n",
    "    ).configure_view(\n",
    "    stroke=None\n",
    ").properties(\n",
    "    title={\n",
    "        \"text\":['Cigarette Use Frequency (Days Smoked in Past 30 Days) Across Different Age Groups'],\n",
    "        \"subtitle\":[\"Smoking intensity increases with age, showing a trend toward heavier cigarette use in older age groups.\"]}).configure_title(\n",
    "        anchor='start', \n",
    "        fontSize=24, \n",
    "        font='Roboto, sans-serif', \n",
    "        subtitleFont='Roboto, sans-serif', \n",
    "        subtitleFontSize=16\n",
    "    )\n",
    "    return violin"
   ]
  },
  {
   "cell_type": "code",
   "execution_count": null,
   "metadata": {},
   "outputs": [],
   "source": [
    "violin_frequency(smoke_2021.loc[smoke_2021['CIG30USE']<90], 'CIG30USE')"
   ]
  },
  {
   "cell_type": "markdown",
   "metadata": {},
   "source": [
    "This violin plot demonstrates the distribution of cigarette use across different age groups. The 26-34 years old group shows the broadest distribution, with higher frequencies of both light and heavy smoking. The 18-25 group has a more narrow and lighter use pattern, while the 50+ group shows more sporadic but heavier smoking behaviors."
   ]
  },
  {
   "cell_type": "code",
   "execution_count": null,
   "metadata": {},
   "outputs": [],
   "source": [
    "def stacked_cigarette_use(df):\n",
    "    \"\"\"\n",
    "    Stacked bar chart:Daily Cigarette Consumption\n",
    "    \"\"\"\n",
    "    stacked_bar = alt.Chart(df).mark_bar().encode(\n",
    "        x=alt.X('CATAG3:N', title='Age Group', axis=alt.Axis(labelAngle=0)),\n",
    "        y=alt.Y('count()', stack='normalize', title='Proportion of Smokers'),\n",
    "        color=alt.Color('CIG30AV_grouped:N', title='Avg Cigarettes Smoked Per Day',\n",
    "                        scale=alt.Scale(scheme='tealblues'))\n",
    "    ).configure_view(\n",
    "    stroke=None\n",
    "    ).properties(\n",
    "    title={\n",
    "        \"text\":['Daily Cigarette Consumption Distribution by Age Group'],\n",
    "        \"subtitle\":[\"Similar to the previous trend, older age groups demonstrate heavier cigarette use, with younger age groups smoking fewer cigarettes per day.\"]},\n",
    "    width=600,\n",
    "    height=400\n",
    "    ).configure_title(\n",
    "        anchor='start', \n",
    "        fontSize=24, \n",
    "        font='Roboto, sans-serif', \n",
    "        subtitleFont='Roboto, sans-serif', \n",
    "        subtitleFontSize=16\n",
    "    )\n",
    "\n",
    "    return stacked_bar"
   ]
  },
  {
   "cell_type": "code",
   "execution_count": null,
   "metadata": {},
   "outputs": [],
   "source": [
    "stacked_cigarette_use(smoke_2021.loc[smoke_2021['CIG30AV']<90])"
   ]
  },
  {
   "cell_type": "markdown",
   "metadata": {},
   "source": [
    "This stacked bar chart shows the proportion of smokers across different age groups, categorized by the average number of cigarettes smoked per day. Younger age groups tend to smoke fewer cigarettes per day, while middle-aged individuals (35-49 years old) have a higher proportion of heavy smokers. The trend reveals a clear gradation where older age groups are more likely to smoke larger quantities of cigarettes daily."
   ]
  },
  {
   "cell_type": "code",
   "execution_count": null,
   "metadata": {},
   "outputs": [],
   "source": [
    "def tobacco_use(df):\n",
    "    \"\"\"\n",
    "    Line chart: Different types of tobacco use by year\n",
    "    \"\"\"\n",
    "    # Calculate percentage of ever use for each product by year\n",
    "    aggregated_data = df.groupby('year').agg(\n",
    "        Cigarettes=('CIGEVER', lambda x: (x == 1).mean()),  # Percentage for CIGEVER\n",
    "        Smokeless=('SMKLSSEVR', lambda x: (x == 1).mean()),  # Percentage for SMKLSSEVR\n",
    "        Cigars=('CIGAREVR', lambda x: (x == 1).mean()),  # Percentage for CIGAREVR\n",
    "        Pipes=('PIPEVER', lambda x: (x == 1).mean())  # Percentage for PIPEVER\n",
    "    ).reset_index()\n",
    "\n",
    "    # Melt the data into long format for plotting\n",
    "    melted_data = aggregated_data.melt(id_vars='year', \n",
    "                                       value_vars=['Cigarettes', 'Smokeless', 'Cigars', 'Pipes'],\n",
    "                                       var_name='Product', value_name='Percentage')\n",
    "    # Create the line plot\n",
    "    line_chart = alt.Chart(melted_data).mark_line(point=True).encode(\n",
    "        x=alt.X('year:O', title='Year', axis=alt.Axis(labelAngle=0)),  # X-axis: Year\n",
    "        y=alt.Y('Percentage:Q', title='Percentage of Ever Use').axis(format='%', tickCount=5),  # Y-axis: Percentage of ever use\n",
    "        color=alt.Color('Product:N', title='Product', legend=None).scale(scheme=\"tealblues\")\n",
    "    )\n",
    "    label = alt.Chart(melted_data).encode(\n",
    "        x='max(year):O', y=alt.Y('Percentage:Q').aggregate(argmax='year'), text='Product')\n",
    "    \n",
    "    # Create a text label\n",
    "    text = label.mark_text(align='left', dx=10)\n",
    "\n",
    "    combined = (line_chart + text).configure_axis(\n",
    "        grid=False\n",
    "    ).configure_view(\n",
    "        stroke=None\n",
    "    ).properties(\n",
    "        title={\n",
    "            \"text\": ['Percentage of Ever Use of Cigarettes, Smokeless Tobacco, Cigars, and Pipes by Year'],\n",
    "            \"subtitle\": ['Cigarette use shows the steepest decline among all tobacco products, while other forms of tobacco exhibit more gradual decreases over time.']\n",
    "        },\n",
    "        width=700,\n",
    "        height=400\n",
    "    ).configure_title(\n",
    "        anchor='start', \n",
    "        fontSize=24, \n",
    "        font='Roboto, sans-serif', \n",
    "        subtitleFont='Roboto, sans-serif', \n",
    "        subtitleFontSize=16\n",
    "    )\n",
    "\n",
    "    return combined\n"
   ]
  },
  {
   "cell_type": "code",
   "execution_count": null,
   "metadata": {},
   "outputs": [],
   "source": [
    "tobacco_use(df)"
   ]
  },
  {
   "cell_type": "markdown",
   "metadata": {},
   "source": [
    "This line chart tracks the percentage of ever use of various tobacco products (Cigarettes, Smokeless Tobacco, Cigars, and Pipes) from 2015 to 2021. Cigarette use is consistently the highest, though it shows a steady decline. Use of cigars and smokeless tobacco remains stable with a slight decrease, while the use of pipes is relatively rare and shows minimal change."
   ]
  }
 ],
 "metadata": {
  "kernelspec": {
   "display_name": "Python 3 (ipykernel)",
   "language": "python",
   "name": "python3"
  },
  "language_info": {
   "codemirror_mode": {
    "name": "ipython",
    "version": 3
   },
   "file_extension": ".py",
   "mimetype": "text/x-python",
   "name": "python",
   "nbconvert_exporter": "python",
   "pygments_lexer": "ipython3",
   "version": "3.10.6"
  }
 },
 "nbformat": 4,
 "nbformat_minor": 4
}
